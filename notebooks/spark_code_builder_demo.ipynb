{
 "cells": [
  {
   "cell_type": "code",
   "execution_count": 1,
   "id": "893f9328",
   "metadata": {},
   "outputs": [],
   "source": [
    "import findspark\n",
    "findspark.init()"
   ]
  },
  {
   "cell_type": "code",
   "execution_count": 2,
   "id": "44c7abb2",
   "metadata": {},
   "outputs": [],
   "source": [
    "import json"
   ]
  },
  {
   "cell_type": "code",
   "execution_count": 3,
   "id": "8f7d9bd5",
   "metadata": {},
   "outputs": [],
   "source": [
    "# from pyspark_ai import SparkAI\n",
    "\n",
    "# spark_ai = SparkAI()\n",
    "# spark_ai.activate()  # active partial functions for Spark DataFrame"
   ]
  },
  {
   "cell_type": "code",
   "execution_count": 4,
   "id": "f5775fe1",
   "metadata": {},
   "outputs": [],
   "source": [
    "import pyspark\n",
    "from pyspark.sql import functions as F"
   ]
  },
  {
   "cell_type": "code",
   "execution_count": 5,
   "id": "82fab8ed",
   "metadata": {},
   "outputs": [],
   "source": [
    "import logging\n",
    "\n",
    "logger = logging.getLogger(__name__)"
   ]
  },
  {
   "cell_type": "code",
   "execution_count": 6,
   "id": "5b040052",
   "metadata": {},
   "outputs": [],
   "source": [
    "from code_master import CodeMaster"
   ]
  },
  {
   "cell_type": "code",
   "execution_count": 7,
   "id": "686c8186",
   "metadata": {},
   "outputs": [
    {
     "name": "stderr",
     "output_type": "stream",
     "text": [
      "Setting default log level to \"WARN\".\n",
      "To adjust logging level use sc.setLogLevel(newLevel). For SparkR, use setLogLevel(newLevel).\n",
      "24/07/17 13:53:55 WARN NativeCodeLoader: Unable to load native-hadoop library for your platform... using builtin-java classes where applicable\n"
     ]
    }
   ],
   "source": [
    "from pyspark.sql import SparkSession, DataFrame\n",
    "spark = SparkSession.builder.appName('abc').getOrCreate()"
   ]
  },
  {
   "cell_type": "code",
   "execution_count": 8,
   "id": "79e7ed38",
   "metadata": {},
   "outputs": [],
   "source": [
    "xyz = spark.createDataFrame(\n",
    "    [\n",
    "        (\"Normal\", \"Cellphone\", 6000),\n",
    "        (\"Normal\", \"Tablet\", 1500),\n",
    "        (\"Mini\", \"Tablet\", 5500),\n",
    "        (\"Mini\", \"Cellphone\", 5000),\n",
    "        (\"Foldable\", \"Cellphone\", 6500),\n",
    "        (\"Foldable\", \"Tablet\", 2500),\n",
    "        (\"Pro\", \"Cellphone\", 3000),\n",
    "        (\"Pro\", \"Tablet\", 4000),\n",
    "        (\"Pro\", \"Tablet\", 4000),\n",
    "        (\"Pro Max\", \"Cellphone\", 4500)\n",
    "    ],\n",
    "    [\"a\", \"c\", \"v\"]\n",
    ")"
   ]
  },
  {
   "cell_type": "code",
   "execution_count": 9,
   "id": "72445e56",
   "metadata": {},
   "outputs": [
    {
     "name": "stderr",
     "output_type": "stream",
     "text": [
      "                                                                                \r"
     ]
    },
    {
     "name": "stdout",
     "output_type": "stream",
     "text": [
      "+--------+---------+----+\n",
      "|       a|        c|   v|\n",
      "+--------+---------+----+\n",
      "|  Normal|Cellphone|6000|\n",
      "|  Normal|   Tablet|1500|\n",
      "|    Mini|   Tablet|5500|\n",
      "|    Mini|Cellphone|5000|\n",
      "|Foldable|Cellphone|6500|\n",
      "|Foldable|   Tablet|2500|\n",
      "|     Pro|Cellphone|3000|\n",
      "|     Pro|   Tablet|4000|\n",
      "|     Pro|   Tablet|4000|\n",
      "| Pro Max|Cellphone|4500|\n",
      "+--------+---------+----+\n",
      "\n"
     ]
    }
   ],
   "source": [
    "xyz.show(20)"
   ]
  },
  {
   "cell_type": "code",
   "execution_count": 10,
   "id": "fe7e7615",
   "metadata": {},
   "outputs": [],
   "source": [
    "# auto sales data from https://www.carpro.com/blog/full-year-2022-national-auto-sales-by-brand\n",
    "data = [('Toyota', 1849751, -9), ('Ford', 1767439, -2), ('Chevrolet', 1502389, 6),\n",
    "        ('Honda', 881201, -33), ('Hyundai', 724265, -2), ('Kia', 693549, -1),\n",
    "        ('Jeep', 684612, -12), ('Nissan', 682731, -25), ('Subaru', 556581, -5),\n",
    "        ('Ram Trucks', 545194, -16), ('GMC', 517649, 7), ('Mercedes-Benz', 350949, 7),\n",
    "        ('BMW', 332388, -1), ('Volkswagen', 301069, -20), ('Mazda', 294908, -11),\n",
    "        ('Lexus', 258704, -15), ('Dodge', 190793, -12), ('Audi', 186875, -5),\n",
    "        ('Cadillac', 134726, 14), ('Chrysler', 112713, -2), ('Buick', 103519, -42),\n",
    "        ('Acura', 102306, -35), ('Volvo', 102038, -16), ('Mitsubishi', 102037, -16),\n",
    "        ('Lincoln', 83486, -4), ('Porsche', 70065, 0), ('Genesis', 56410, 14),\n",
    "        ('INFINITI', 46619, -20), ('MINI', 29504, -1), ('Alfa Romeo', 12845, -30),\n",
    "        ('Maserati', 6413, -10), ('Bentley', 3975, 0), ('Lamborghini', 3134, 3),\n",
    "        ('Fiat', 915, -61), ('McLaren', 840, -35), ('Rolls-Royce', 460, 7)]\n",
    "\n",
    "dq = spark.createDataFrame(data, [\"Brand\", \"US_Sales_2022\", \"Sales_Change_Percentage\"])"
   ]
  },
  {
   "cell_type": "code",
   "execution_count": 11,
   "id": "0e893356",
   "metadata": {},
   "outputs": [
    {
     "name": "stdout",
     "output_type": "stream",
     "text": [
      "+-------------+-------------+-----------------------+\n",
      "|        Brand|US_Sales_2022|Sales_Change_Percentage|\n",
      "+-------------+-------------+-----------------------+\n",
      "|       Toyota|      1849751|                     -9|\n",
      "|         Ford|      1767439|                     -2|\n",
      "|    Chevrolet|      1502389|                      6|\n",
      "|        Honda|       881201|                    -33|\n",
      "|      Hyundai|       724265|                     -2|\n",
      "|          Kia|       693549|                     -1|\n",
      "|         Jeep|       684612|                    -12|\n",
      "|       Nissan|       682731|                    -25|\n",
      "|       Subaru|       556581|                     -5|\n",
      "|   Ram Trucks|       545194|                    -16|\n",
      "|          GMC|       517649|                      7|\n",
      "|Mercedes-Benz|       350949|                      7|\n",
      "|          BMW|       332388|                     -1|\n",
      "|   Volkswagen|       301069|                    -20|\n",
      "|        Mazda|       294908|                    -11|\n",
      "|        Lexus|       258704|                    -15|\n",
      "|        Dodge|       190793|                    -12|\n",
      "|         Audi|       186875|                     -5|\n",
      "|     Cadillac|       134726|                     14|\n",
      "|     Chrysler|       112713|                     -2|\n",
      "+-------------+-------------+-----------------------+\n",
      "only showing top 20 rows\n",
      "\n"
     ]
    }
   ],
   "source": [
    "dq.show(20)"
   ]
  },
  {
   "cell_type": "code",
   "execution_count": 12,
   "id": "5013b05a",
   "metadata": {},
   "outputs": [],
   "source": [
    "data = {}"
   ]
  },
  {
   "cell_type": "code",
   "execution_count": 13,
   "id": "0c9ed049",
   "metadata": {},
   "outputs": [],
   "source": [
    "data['xyz'] = xyz\n",
    "data['dq'] = dq"
   ]
  },
  {
   "cell_type": "code",
   "execution_count": 14,
   "id": "e63dec1a",
   "metadata": {},
   "outputs": [
    {
     "data": {
      "text/plain": [
       "{'xyz': DataFrame[a: string, c: string, v: bigint],\n",
       " 'dq': DataFrame[Brand: string, US_Sales_2022: bigint, Sales_Change_Percentage: bigint]}"
      ]
     },
     "execution_count": 14,
     "metadata": {},
     "output_type": "execute_result"
    }
   ],
   "source": [
    "data"
   ]
  },
  {
   "cell_type": "code",
   "execution_count": 15,
   "id": "d1788d9f",
   "metadata": {},
   "outputs": [],
   "source": [
    "f = open ('sel_test.json', \"r\")\n",
    "pipeline_dict = json.loads(f.read())"
   ]
  },
  {
   "cell_type": "code",
   "execution_count": 16,
   "id": "3a464537",
   "metadata": {},
   "outputs": [
    {
     "data": {
      "text/plain": [
       "{'module_name': 'ar',\n",
       " 'version': '0.1',\n",
       " 'pipeline': {'stage_1': {'select': {'table_name': 'xyz',\n",
       "    'cols_to_select': ['a', 'v'],\n",
       "    'drop': ['p'],\n",
       "    'dedup': 'True',\n",
       "    'output': 'xyz'}},\n",
       "  'stage_2': {'select': {'table_name': 'dq', 'output': 'dq'}}}}"
      ]
     },
     "execution_count": 16,
     "metadata": {},
     "output_type": "execute_result"
    }
   ],
   "source": [
    "pipeline_dict"
   ]
  },
  {
   "cell_type": "code",
   "execution_count": 17,
   "id": "6e8246a0",
   "metadata": {},
   "outputs": [],
   "source": [
    "#code master\n",
    "\n",
    "code_master_obj = CodeMaster(pipeline=pipeline_dict, data=data, spark=spark)"
   ]
  },
  {
   "cell_type": "code",
   "execution_count": 18,
   "id": "659fa72d",
   "metadata": {},
   "outputs": [],
   "source": [
    "df, df_dict = code_master_obj.build_pipeline()"
   ]
  },
  {
   "cell_type": "code",
   "execution_count": 19,
   "id": "4f69d0f7",
   "metadata": {},
   "outputs": [
    {
     "data": {
      "text/plain": [
       "{'xyz': DataFrame[a: string, v: bigint],\n",
       " 'dq': DataFrame[Brand: string, US_Sales_2022: bigint, Sales_Change_Percentage: bigint]}"
      ]
     },
     "execution_count": 19,
     "metadata": {},
     "output_type": "execute_result"
    }
   ],
   "source": [
    "df_dict"
   ]
  },
  {
   "cell_type": "code",
   "execution_count": 21,
   "id": "5c224378",
   "metadata": {},
   "outputs": [
    {
     "name": "stdout",
     "output_type": "stream",
     "text": [
      "+--------+----+\n",
      "|       a|   v|\n",
      "+--------+----+\n",
      "|  Normal|6000|\n",
      "|  Normal|1500|\n",
      "|    Mini|5500|\n",
      "|Foldable|6500|\n",
      "|    Mini|5000|\n",
      "|Foldable|2500|\n",
      "|     Pro|3000|\n",
      "|     Pro|4000|\n",
      "| Pro Max|4500|\n",
      "+--------+----+\n",
      "\n"
     ]
    }
   ],
   "source": [
    "df_dict['xyz'].show(20)"
   ]
  },
  {
   "cell_type": "code",
   "execution_count": null,
   "id": "30f89f23",
   "metadata": {},
   "outputs": [],
   "source": []
  },
  {
   "cell_type": "code",
   "execution_count": 16,
   "id": "71582d70",
   "metadata": {},
   "outputs": [],
   "source": [
    "pipeline = pipeline_dict['pipeline']"
   ]
  },
  {
   "cell_type": "code",
   "execution_count": 20,
   "id": "cc8a6a90",
   "metadata": {},
   "outputs": [
    {
     "name": "stdout",
     "output_type": "stream",
     "text": [
      "stage_1\n",
      "{'select': {'table_name': 'xyz', 'cols_to_select': ['a', 'c', 'v', 'p'], 'drop': ['p'], 'dedup': 'True'}}\n",
      "select\n",
      "{'table_name': 'xyz', 'cols_to_select': ['a', 'c', 'v', 'p'], 'drop': ['p'], 'dedup': 'True'}\n",
      "stage_2\n",
      "{'select': {'table_name': 'dq'}}\n",
      "select\n",
      "{'table_name': 'dq'}\n"
     ]
    }
   ],
   "source": [
    "for stage in pipeline.keys():\n",
    "    print (stage)\n",
    "    print(pipeline.get(stage))\n",
    "    stage_operations = pipeline.get(stage)\n",
    "    for oper in stage_operations.keys():\n",
    "        print(oper)\n",
    "        print(stage_operations.get(oper))"
   ]
  },
  {
   "cell_type": "code",
   "execution_count": 64,
   "id": "9b8a531b",
   "metadata": {},
   "outputs": [
    {
     "data": {
      "text/plain": [
       "{'table_name': 'xyz',\n",
       " 'cols_to_select': ['a', 'c', 'v', 'p'],\n",
       " 'drop': ['p'],\n",
       " 'dedup': 'True'}"
      ]
     },
     "execution_count": 64,
     "metadata": {},
     "output_type": "execute_result"
    }
   ],
   "source": [
    "sel_details = pipeline['pipeline']['stage_1']['select']\n",
    "sel_details"
   ]
  },
  {
   "cell_type": "code",
   "execution_count": 65,
   "id": "2bf56ee4",
   "metadata": {},
   "outputs": [],
   "source": [
    "df1 = selection(sel_details)"
   ]
  },
  {
   "cell_type": "code",
   "execution_count": 1,
   "id": "0564f591",
   "metadata": {},
   "outputs": [
    {
     "ename": "NameError",
     "evalue": "name 'df1' is not defined",
     "output_type": "error",
     "traceback": [
      "\u001b[0;31m---------------------------------------------------------------------------\u001b[0m",
      "\u001b[0;31mNameError\u001b[0m                                 Traceback (most recent call last)",
      "Cell \u001b[0;32mIn[1], line 1\u001b[0m\n\u001b[0;32m----> 1\u001b[0m df1\u001b[38;5;241m.\u001b[39mshow(\u001b[38;5;241m20\u001b[39m)\n",
      "\u001b[0;31mNameError\u001b[0m: name 'df1' is not defined"
     ]
    }
   ],
   "source": [
    "df1.show(20)"
   ]
  },
  {
   "cell_type": "code",
   "execution_count": 63,
   "id": "48c4c20a",
   "metadata": {},
   "outputs": [],
   "source": [
    "def selection(details:dict):\n",
    "    try:\n",
    "        df_sel = data[details[\"table_name\"]]\n",
    "    except:\n",
    "        logger.error(\"No dataframe mentioned to select.\")\n",
    "        exit()\n",
    "\n",
    "    if 'cols_to_select' in details.keys():\n",
    "        try:\n",
    "            df_sel = df_sel.select(*details[\"cols_to_select\"])\n",
    "        except:\n",
    "            logger.info('Column selection %s for table %s is incorrect.', str(details[\"cols_to_select\"]), details[\"table_name\"])\n",
    "            exit()\n",
    "    \n",
    "    if 'drop' in details.keys():\n",
    "        df_sel = df_sel.drop(*details[\"drop\"])\n",
    "\n",
    "    if 'dedup' in details.keys():\n",
    "        if details['dedup'].upper() == \"TRUE\":\n",
    "            df_sel = df_sel.drop_duplicates()\n",
    "\n",
    "    return df_sel"
   ]
  },
  {
   "cell_type": "code",
   "execution_count": null,
   "id": "2c35445d",
   "metadata": {},
   "outputs": [],
   "source": []
  }
 ],
 "metadata": {
  "kernelspec": {
   "display_name": "Python 3 (ipykernel)",
   "language": "python",
   "name": "python3"
  },
  "language_info": {
   "codemirror_mode": {
    "name": "ipython",
    "version": 3
   },
   "file_extension": ".py",
   "mimetype": "text/x-python",
   "name": "python",
   "nbconvert_exporter": "python",
   "pygments_lexer": "ipython3",
   "version": "3.11.7"
  }
 },
 "nbformat": 4,
 "nbformat_minor": 5
}
