{
 "cells": [
  {
   "cell_type": "code",
   "execution_count": 1,
   "id": "893f9328",
   "metadata": {},
   "outputs": [],
   "source": [
    "import findspark\n",
    "findspark.init()"
   ]
  },
  {
   "cell_type": "code",
   "execution_count": 2,
   "id": "44c7abb2",
   "metadata": {},
   "outputs": [],
   "source": [
    "import json,os"
   ]
  },
  {
   "cell_type": "code",
   "execution_count": 3,
   "id": "8f7d9bd5",
   "metadata": {},
   "outputs": [],
   "source": [
    "# from pyspark_ai import SparkAI\n",
    "\n",
    "# spark_ai = SparkAI()\n",
    "# spark_ai.activate()  # active partial functions for Spark DataFrame"
   ]
  },
  {
   "cell_type": "code",
   "execution_count": 4,
   "id": "f5775fe1",
   "metadata": {},
   "outputs": [],
   "source": [
    "import pyspark\n",
    "from pyspark.sql import functions as F"
   ]
  },
  {
   "cell_type": "code",
   "execution_count": 5,
   "id": "82fab8ed",
   "metadata": {},
   "outputs": [],
   "source": [
    "import logging\n",
    "\n",
    "logger = logging.getLogger(__name__)"
   ]
  },
  {
   "cell_type": "code",
   "execution_count": 6,
   "id": "d28847df",
   "metadata": {},
   "outputs": [
    {
     "data": {
      "text/plain": [
       "'/Users/akshayranade/Documents/Personal/pyspark_code_generator/notebooks'"
      ]
     },
     "execution_count": 6,
     "metadata": {},
     "output_type": "execute_result"
    }
   ],
   "source": [
    "os.getcwd()"
   ]
  },
  {
   "cell_type": "code",
   "execution_count": 7,
   "id": "bbeb31e7",
   "metadata": {},
   "outputs": [],
   "source": [
    "os.chdir('../transform')"
   ]
  },
  {
   "cell_type": "code",
   "execution_count": 8,
   "id": "5b040052",
   "metadata": {},
   "outputs": [],
   "source": [
    "from code_master import CodeMaster"
   ]
  },
  {
   "cell_type": "code",
   "execution_count": 9,
   "id": "686c8186",
   "metadata": {},
   "outputs": [
    {
     "name": "stderr",
     "output_type": "stream",
     "text": [
      "24/08/07 14:10:17 WARN Utils: Your hostname, Akshays-MacBook-Air.local resolves to a loopback address: 127.0.0.1; using 172.16.10.129 instead (on interface en0)\n",
      "24/08/07 14:10:17 WARN Utils: Set SPARK_LOCAL_IP if you need to bind to another address\n",
      "Setting default log level to \"WARN\".\n",
      "To adjust logging level use sc.setLogLevel(newLevel). For SparkR, use setLogLevel(newLevel).\n",
      "24/08/07 14:10:17 WARN NativeCodeLoader: Unable to load native-hadoop library for your platform... using builtin-java classes where applicable\n"
     ]
    }
   ],
   "source": [
    "from pyspark.sql import SparkSession, DataFrame\n",
    "spark = SparkSession.builder.appName('abc').getOrCreate()"
   ]
  },
  {
   "cell_type": "code",
   "execution_count": 10,
   "id": "0adb0d2b",
   "metadata": {},
   "outputs": [],
   "source": [
    "input_data={}"
   ]
  },
  {
   "cell_type": "code",
   "execution_count": 11,
   "id": "79e7ed38",
   "metadata": {},
   "outputs": [],
   "source": [
    "simpleData = [(\"James\", \"Sales\", 3000),\n",
    "        (\"Michael\", \"Sales\", 4600),\n",
    "        (\"Robert\", \"Sales\", 4100),\n",
    "        (\"Maria\", \"Finance\", 3000),\n",
    "        (\"James\", \"Sales\", 3000),\n",
    "        (\"Scott\", \"Finance\", 3300),\n",
    "        (\"Jen\", \"Finance\", 3900),\n",
    "        (\"Jeff\", \"Marketing\", 3000),\n",
    "        (\"Kumar\", \"Marketing\", 2000),\n",
    "        (\"Saif\", \"Sales\", 4100)\n",
    "]\n",
    "schema = [\"employee_name\", \"department\", \"salary\"]\n",
    "\n",
    "employee_department = spark.createDataFrame(data=simpleData, schema = schema)\n",
    "\n",
    "#Add to input_data dictionary\n",
    "input_data['employee_department'] = employee_department\n",
    "\n",
    "simpleData = [(\"James\", \"Stewart\", 11111),\n",
    "    (\"Michael\", \"Paine\", 44444),\n",
    "    (\"Robert\", \"Baggins\", 12345),\n",
    "    (\"Maria\", \"Hanks\", 34567),\n",
    "    (\"James\", \"Snape\", 43215),\n",
    "    (\"Scott\", \"Potter\", 65234),\n",
    "    (\"Jen\", \"Granger\", 76234),\n",
    "    (\"Jeff\", \"Weasley\", 54234),\n",
    "    (\"Kumar\", \"Oppenheimer\", 34567),\n",
    "    (\"Saif\", \"Tesla\", 43215)\n",
    "]\n",
    "schema = [\"first_name\", \"last_name\", \"pin_code\"]\n",
    "\n",
    "employee_demo = spark.createDataFrame(data=simpleData, schema = schema)\n",
    "\n",
    "#Add to input_data dictionary\n",
    "input_data['employee_demo'] = employee_demo"
   ]
  },
  {
   "cell_type": "code",
   "execution_count": 12,
   "id": "72445e56",
   "metadata": {},
   "outputs": [
    {
     "name": "stderr",
     "output_type": "stream",
     "text": [
      "\r",
      "[Stage 0:>                                                          (0 + 1) / 1]\r",
      "\r",
      "                                                                                \r"
     ]
    },
    {
     "name": "stdout",
     "output_type": "stream",
     "text": [
      "+-------------+----------+------+\n",
      "|employee_name|department|salary|\n",
      "+-------------+----------+------+\n",
      "|        James|     Sales|  3000|\n",
      "|      Michael|     Sales|  4600|\n",
      "|       Robert|     Sales|  4100|\n",
      "|        Maria|   Finance|  3000|\n",
      "|        James|     Sales|  3000|\n",
      "|        Scott|   Finance|  3300|\n",
      "|          Jen|   Finance|  3900|\n",
      "|         Jeff| Marketing|  3000|\n",
      "|        Kumar| Marketing|  2000|\n",
      "|         Saif|     Sales|  4100|\n",
      "+-------------+----------+------+\n",
      "\n"
     ]
    }
   ],
   "source": [
    "employee_department.show(20)"
   ]
  },
  {
   "cell_type": "code",
   "execution_count": 13,
   "id": "4bdd5ca4",
   "metadata": {},
   "outputs": [],
   "source": [
    "for column_name in employee_department.columns:\n",
    "    employee_department=employee_department.withColumnRenamed(column_name,column_name+\"_left\")"
   ]
  },
  {
   "cell_type": "code",
   "execution_count": 14,
   "id": "5f726bf7",
   "metadata": {},
   "outputs": [
    {
     "name": "stdout",
     "output_type": "stream",
     "text": [
      "+------------------+---------------+-----------+\n",
      "|employee_name_left|department_left|salary_left|\n",
      "+------------------+---------------+-----------+\n",
      "|             James|          Sales|       3000|\n",
      "|           Michael|          Sales|       4600|\n",
      "|            Robert|          Sales|       4100|\n",
      "|             Maria|        Finance|       3000|\n",
      "|             James|          Sales|       3000|\n",
      "|             Scott|        Finance|       3300|\n",
      "|               Jen|        Finance|       3900|\n",
      "|              Jeff|      Marketing|       3000|\n",
      "|             Kumar|      Marketing|       2000|\n",
      "|              Saif|          Sales|       4100|\n",
      "+------------------+---------------+-----------+\n",
      "\n"
     ]
    }
   ],
   "source": [
    "employee_department.show(20)"
   ]
  },
  {
   "cell_type": "code",
   "execution_count": 15,
   "id": "d223d97c",
   "metadata": {},
   "outputs": [],
   "source": [
    "for column_name in employee_department.columns:\n",
    "    employee_department=employee_department.withColumnRenamed(column_name,column_name.replace(\"_left\",\"\"))"
   ]
  },
  {
   "cell_type": "code",
   "execution_count": 16,
   "id": "003e183b",
   "metadata": {},
   "outputs": [
    {
     "name": "stdout",
     "output_type": "stream",
     "text": [
      "+-------------+----------+------+\n",
      "|employee_name|department|salary|\n",
      "+-------------+----------+------+\n",
      "|        James|     Sales|  3000|\n",
      "|      Michael|     Sales|  4600|\n",
      "|       Robert|     Sales|  4100|\n",
      "|        Maria|   Finance|  3000|\n",
      "|        James|     Sales|  3000|\n",
      "|        Scott|   Finance|  3300|\n",
      "|          Jen|   Finance|  3900|\n",
      "|         Jeff| Marketing|  3000|\n",
      "|        Kumar| Marketing|  2000|\n",
      "|         Saif|     Sales|  4100|\n",
      "+-------------+----------+------+\n",
      "\n"
     ]
    }
   ],
   "source": [
    "employee_department.show(20)"
   ]
  },
  {
   "cell_type": "code",
   "execution_count": 17,
   "id": "35c4c366",
   "metadata": {},
   "outputs": [],
   "source": [
    "# xyz.write.parquet('/Users/akshayranade/Documents/Personal/spark_output/xyz')"
   ]
  },
  {
   "cell_type": "code",
   "execution_count": 18,
   "id": "fe7e7615",
   "metadata": {},
   "outputs": [],
   "source": [
    "# auto sales data from https://www.carpro.com/blog/full-year-2022-national-auto-sales-by-brand\n",
    "# data = [('Toyota', 1849751, -9), ('Ford', 1767439, -2), ('Chevrolet', 1502389, 6),\n",
    "#         ('Honda', 881201, -33), ('Hyundai', 724265, -2), ('Kia', 693549, -1),\n",
    "#         ('Jeep', 684612, -12), ('Nissan', 682731, -25), ('Subaru', 556581, -5),\n",
    "#         ('Ram Trucks', 545194, -16), ('GMC', 517649, 7), ('Mercedes-Benz', 350949, 7),\n",
    "#         ('BMW', 332388, -1), ('Volkswagen', 301069, -20), ('Mazda', 294908, -11),\n",
    "#         ('Lexus', 258704, -15), ('Dodge', 190793, -12), ('Audi', 186875, -5),\n",
    "#         ('Cadillac', 134726, 14), ('Chrysler', 112713, -2), ('Buick', 103519, -42),\n",
    "#         ('Acura', 102306, -35), ('Volvo', 102038, -16), ('Mitsubishi', 102037, -16),\n",
    "#         ('Lincoln', 83486, -4), ('Porsche', 70065, 0), ('Genesis', 56410, 14),\n",
    "#         ('INFINITI', 46619, -20), ('MINI', 29504, -1), ('Alfa Romeo', 12845, -30),\n",
    "#         ('Maserati', 6413, -10), ('Bentley', 3975, 0), ('Lamborghini', 3134, 3),\n",
    "#         ('Fiat', 915, -61), ('McLaren', 840, -35), ('Rolls-Royce', 460, 7)]\n",
    "\n",
    "# dq = spark.createDataFrame(data, [\"Brand\", \"US_Sales_2022\", \"Sales_Change_Percentage\"])"
   ]
  },
  {
   "cell_type": "code",
   "execution_count": 19,
   "id": "0e893356",
   "metadata": {},
   "outputs": [],
   "source": [
    "# dq.show(20)"
   ]
  },
  {
   "cell_type": "code",
   "execution_count": 20,
   "id": "ee5f98d0",
   "metadata": {},
   "outputs": [],
   "source": [
    "col_name = 'col1_left'"
   ]
  },
  {
   "cell_type": "code",
   "execution_count": 21,
   "id": "080ea18c",
   "metadata": {},
   "outputs": [
    {
     "data": {
      "text/plain": [
       "'col1'"
      ]
     },
     "execution_count": 21,
     "metadata": {},
     "output_type": "execute_result"
    }
   ],
   "source": [
    "col_name.rstrip(\"_left\")"
   ]
  },
  {
   "cell_type": "code",
   "execution_count": 22,
   "id": "5013b05a",
   "metadata": {},
   "outputs": [],
   "source": [
    "# data = {}"
   ]
  },
  {
   "cell_type": "code",
   "execution_count": 23,
   "id": "0c9ed049",
   "metadata": {},
   "outputs": [],
   "source": [
    "# data['xyz'] = xyz\n",
    "# data['dq'] = dq"
   ]
  },
  {
   "cell_type": "code",
   "execution_count": 24,
   "id": "e63dec1a",
   "metadata": {},
   "outputs": [
    {
     "data": {
      "text/plain": [
       "{'employee_department': DataFrame[employee_name: string, department: string, salary: bigint],\n",
       " 'employee_demo': DataFrame[first_name: string, last_name: string, pin_code: bigint]}"
      ]
     },
     "execution_count": 24,
     "metadata": {},
     "output_type": "execute_result"
    }
   ],
   "source": [
    "input_data"
   ]
  },
  {
   "cell_type": "code",
   "execution_count": 25,
   "id": "d1788d9f",
   "metadata": {},
   "outputs": [],
   "source": [
    "f = open ('../conf/pipeline.json', \"r\")\n",
    "pipeline_dict = json.loads(f.read())"
   ]
  },
  {
   "cell_type": "code",
   "execution_count": 26,
   "id": "3a464537",
   "metadata": {},
   "outputs": [
    {
     "data": {
      "text/plain": [
       "{'module_name': 'ar',\n",
       " 'version': '0.1',\n",
       " 'pipeline': {'stage_1': {'join': {'left_table': 'employee_department',\n",
       "    'right_table': 'employee_demo',\n",
       "    'join_condition': ['employee_name_left == first_name'],\n",
       "    'join_type': 'left',\n",
       "    'output': 'employee_all'}},\n",
       "  'stage_2': {'aggregate': {'table_name': 'employee_all',\n",
       "    'group_by_cols': ['department'],\n",
       "    'aggregate_functions': {'salary': 'sum', 'employee_name': 'count'},\n",
       "    'output': 'stats_by_department'}},\n",
       "  'stage_3': {'aggregate': {'table_name': 'employee_all',\n",
       "    'group_by_cols': ['pin_code'],\n",
       "    'aggregate_functions': {'salary': 'sum'},\n",
       "    'output': 'income_by_region'}}}}"
      ]
     },
     "execution_count": 26,
     "metadata": {},
     "output_type": "execute_result"
    }
   ],
   "source": [
    "pipeline_dict"
   ]
  },
  {
   "cell_type": "code",
   "execution_count": 27,
   "id": "6e8246a0",
   "metadata": {},
   "outputs": [],
   "source": [
    "#code master\n",
    "\n",
    "code_master_obj = CodeMaster(pipeline=pipeline_dict, data=input_data, spark=spark)"
   ]
  },
  {
   "cell_type": "code",
   "execution_count": 28,
   "id": "659fa72d",
   "metadata": {},
   "outputs": [],
   "source": [
    "df, df_dict = code_master_obj.build_pipeline()"
   ]
  },
  {
   "cell_type": "code",
   "execution_count": 29,
   "id": "4f69d0f7",
   "metadata": {},
   "outputs": [
    {
     "data": {
      "text/plain": [
       "{'employee_all': DataFrame[employee_name: string, department: string, salary: bigint, first_name: string, last_name: string, pin_code: bigint],\n",
       " 'stats_by_department': DataFrame[department: string, count_employee_name: bigint, sum_salary: bigint],\n",
       " 'income_by_region': DataFrame[pin_code: bigint, sum_salary: bigint]}"
      ]
     },
     "execution_count": 29,
     "metadata": {},
     "output_type": "execute_result"
    }
   ],
   "source": [
    "df_dict"
   ]
  },
  {
   "cell_type": "code",
   "execution_count": 30,
   "id": "5c224378",
   "metadata": {},
   "outputs": [
    {
     "name": "stdout",
     "output_type": "stream",
     "text": [
      "+-------------+----------+------+----------+-----------+--------+\n",
      "|employee_name|department|salary|first_name|  last_name|pin_code|\n",
      "+-------------+----------+------+----------+-----------+--------+\n",
      "|        James|     Sales|  3000|     James|      Snape|   43215|\n",
      "|        James|     Sales|  3000|     James|    Stewart|   11111|\n",
      "|      Michael|     Sales|  4600|   Michael|      Paine|   44444|\n",
      "|       Robert|     Sales|  4100|    Robert|    Baggins|   12345|\n",
      "|        James|     Sales|  3000|     James|      Snape|   43215|\n",
      "|        James|     Sales|  3000|     James|    Stewart|   11111|\n",
      "|        Maria|   Finance|  3000|     Maria|      Hanks|   34567|\n",
      "|        Scott|   Finance|  3300|     Scott|     Potter|   65234|\n",
      "|          Jen|   Finance|  3900|       Jen|    Granger|   76234|\n",
      "|         Jeff| Marketing|  3000|      Jeff|    Weasley|   54234|\n",
      "|        Kumar| Marketing|  2000|     Kumar|Oppenheimer|   34567|\n",
      "|         Saif|     Sales|  4100|      Saif|      Tesla|   43215|\n",
      "+-------------+----------+------+----------+-----------+--------+\n",
      "\n"
     ]
    }
   ],
   "source": [
    "df_dict['employee_all'].show(20)"
   ]
  },
  {
   "cell_type": "code",
   "execution_count": 31,
   "id": "30f89f23",
   "metadata": {},
   "outputs": [
    {
     "name": "stdout",
     "output_type": "stream",
     "text": [
      "+----------+-------------------+----------+\n",
      "|department|count_employee_name|sum_salary|\n",
      "+----------+-------------------+----------+\n",
      "|     Sales|                  7|     24800|\n",
      "|   Finance|                  3|     10200|\n",
      "| Marketing|                  2|      5000|\n",
      "+----------+-------------------+----------+\n",
      "\n"
     ]
    }
   ],
   "source": [
    "df_dict['stats_by_department'].show(20)"
   ]
  },
  {
   "cell_type": "code",
   "execution_count": 32,
   "id": "35ace0b3",
   "metadata": {},
   "outputs": [
    {
     "name": "stdout",
     "output_type": "stream",
     "text": [
      "+--------+----------+\n",
      "|pin_code|sum_salary|\n",
      "+--------+----------+\n",
      "|   65234|      3300|\n",
      "|   54234|      3000|\n",
      "|   12345|      4100|\n",
      "|   43215|     10100|\n",
      "|   11111|      6000|\n",
      "|   76234|      3900|\n",
      "|   44444|      4600|\n",
      "|   34567|      5000|\n",
      "+--------+----------+\n",
      "\n"
     ]
    }
   ],
   "source": [
    "df_dict['income_by_region'].show(20)"
   ]
  },
  {
   "cell_type": "code",
   "execution_count": 16,
   "id": "71582d70",
   "metadata": {},
   "outputs": [],
   "source": [
    "pipeline = pipeline_dict['pipeline']"
   ]
  },
  {
   "cell_type": "code",
   "execution_count": 20,
   "id": "cc8a6a90",
   "metadata": {},
   "outputs": [
    {
     "name": "stdout",
     "output_type": "stream",
     "text": [
      "stage_1\n",
      "{'select': {'table_name': 'xyz', 'cols_to_select': ['a', 'c', 'v', 'p'], 'drop': ['p'], 'dedup': 'True'}}\n",
      "select\n",
      "{'table_name': 'xyz', 'cols_to_select': ['a', 'c', 'v', 'p'], 'drop': ['p'], 'dedup': 'True'}\n",
      "stage_2\n",
      "{'select': {'table_name': 'dq'}}\n",
      "select\n",
      "{'table_name': 'dq'}\n"
     ]
    }
   ],
   "source": [
    "for stage in pipeline.keys():\n",
    "    print (stage)\n",
    "    print(pipeline.get(stage))\n",
    "    stage_operations = pipeline.get(stage)\n",
    "    for oper in stage_operations.keys():\n",
    "        print(oper)\n",
    "        print(stage_operations.get(oper))"
   ]
  },
  {
   "cell_type": "code",
   "execution_count": 64,
   "id": "9b8a531b",
   "metadata": {},
   "outputs": [
    {
     "data": {
      "text/plain": [
       "{'table_name': 'xyz',\n",
       " 'cols_to_select': ['a', 'c', 'v', 'p'],\n",
       " 'drop': ['p'],\n",
       " 'dedup': 'True'}"
      ]
     },
     "execution_count": 64,
     "metadata": {},
     "output_type": "execute_result"
    }
   ],
   "source": [
    "sel_details = pipeline['pipeline']['stage_1']['select']\n",
    "sel_details"
   ]
  },
  {
   "cell_type": "code",
   "execution_count": 65,
   "id": "2bf56ee4",
   "metadata": {},
   "outputs": [],
   "source": [
    "df1 = selection(sel_details)"
   ]
  },
  {
   "cell_type": "code",
   "execution_count": 1,
   "id": "0564f591",
   "metadata": {},
   "outputs": [
    {
     "ename": "NameError",
     "evalue": "name 'df1' is not defined",
     "output_type": "error",
     "traceback": [
      "\u001b[0;31m---------------------------------------------------------------------------\u001b[0m",
      "\u001b[0;31mNameError\u001b[0m                                 Traceback (most recent call last)",
      "Cell \u001b[0;32mIn[1], line 1\u001b[0m\n\u001b[0;32m----> 1\u001b[0m df1\u001b[38;5;241m.\u001b[39mshow(\u001b[38;5;241m20\u001b[39m)\n",
      "\u001b[0;31mNameError\u001b[0m: name 'df1' is not defined"
     ]
    }
   ],
   "source": [
    "df1.show(20)"
   ]
  },
  {
   "cell_type": "code",
   "execution_count": 63,
   "id": "48c4c20a",
   "metadata": {},
   "outputs": [],
   "source": [
    "def selection(details:dict):\n",
    "    try:\n",
    "        df_sel = data[details[\"table_name\"]]\n",
    "    except:\n",
    "        logger.error(\"No dataframe mentioned to select.\")\n",
    "        exit()\n",
    "\n",
    "    if 'cols_to_select' in details.keys():\n",
    "        try:\n",
    "            df_sel = df_sel.select(*details[\"cols_to_select\"])\n",
    "        except:\n",
    "            logger.info('Column selection %s for table %s is incorrect.', str(details[\"cols_to_select\"]), details[\"table_name\"])\n",
    "            exit()\n",
    "    \n",
    "    if 'drop' in details.keys():\n",
    "        df_sel = df_sel.drop(*details[\"drop\"])\n",
    "\n",
    "    if 'dedup' in details.keys():\n",
    "        if details['dedup'].upper() == \"TRUE\":\n",
    "            df_sel = df_sel.drop_duplicates()\n",
    "\n",
    "    return df_sel"
   ]
  },
  {
   "cell_type": "code",
   "execution_count": null,
   "id": "2c35445d",
   "metadata": {},
   "outputs": [],
   "source": []
  }
 ],
 "metadata": {
  "kernelspec": {
   "display_name": "Python 3 (ipykernel)",
   "language": "python",
   "name": "python3"
  },
  "language_info": {
   "codemirror_mode": {
    "name": "ipython",
    "version": 3
   },
   "file_extension": ".py",
   "mimetype": "text/x-python",
   "name": "python",
   "nbconvert_exporter": "python",
   "pygments_lexer": "ipython3",
   "version": "3.11.7"
  }
 },
 "nbformat": 4,
 "nbformat_minor": 5
}
